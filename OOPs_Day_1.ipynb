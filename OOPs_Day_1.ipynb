{
  "nbformat": 4,
  "nbformat_minor": 0,
  "metadata": {
    "colab": {
      "provenance": []
    },
    "kernelspec": {
      "name": "python3",
      "display_name": "Python 3"
    },
    "language_info": {
      "name": "python"
    }
  },
  "cells": [
    {
      "cell_type": "code",
      "source": [
        "#Class main stes\n",
        "class calculator:\n",
        "  n1 = 0 #Attributes\n",
        "  n2 = 0\n",
        "  results = 0\n",
        "\n",
        "  def __init__(self): #constructor\n",
        "    self.n1 = 0\n",
        "    self.n2 = 0\n",
        "    self.res = 0\n",
        "  def add(self, n1, n2):\n",
        "    pass\n",
        "  def sub(self, n1, n2):\n",
        "    pass\n",
        "  def multiplication(self, n1, n2):\n",
        "    pass\n",
        "  def division(self, n1, n2):\n",
        "    pass\n",
        "# end of class\n",
        "\n",
        "#obj creation\n",
        "c1 = calculator()\n",
        "c2 = calculator()\n",
        "\n",
        "# calling the methods\n",
        "c1.add()\n",
        "c2.sub()\n",
        "\n"
      ],
      "metadata": {
        "id": "c0gr3U9SDyLm"
      },
      "execution_count": null,
      "outputs": []
    },
    {
      "cell_type": "code",
      "source": [
        "class sample:\n",
        "  def __init__(self):\n",
        "    self.data = 10\n",
        "\n",
        "  def input_data(self):\n",
        "    self.data = input(\"Enter some text:\")\n",
        "\n",
        "  def processed_data(self):\n",
        "    self.data = self.data.upper()\n",
        "\n",
        "  def output_data(self):\n",
        "    print(self.data)\n",
        "\n",
        "#Testing the class\n",
        "obj = sample()\n",
        "obj.input_data()\n",
        "obj.processed_data()\n",
        "obj.output_data()"
      ],
      "metadata": {
        "id": "kQ0Vgs8WQiBd",
        "outputId": "adc8d97b-d641-4073-abfa-ff85f8ae40e4",
        "colab": {
          "base_uri": "https://localhost:8080/"
        }
      },
      "execution_count": 1,
      "outputs": [
        {
          "output_type": "stream",
          "name": "stdout",
          "text": [
            "Enter some text:Pavan\n",
            "PAVAN\n"
          ]
        }
      ]
    },
    {
      "cell_type": "code",
      "source": [
        "class calculator:\n",
        "  def __init__(self, n1,n2):\n",
        "    self.n1 = n1\n",
        "    self.n2 = n2\n",
        "\n",
        "  def add(self):\n",
        "    print(self.n1+self.n2)\n",
        "\n",
        "  def sub(self):\n",
        "    print(self.n1-self.n2)\n",
        "\n",
        "  def mul(self):\n",
        "    print(self.n1*self.n2)\n",
        "\n",
        "#Testing the class\n",
        "obj = calculator(10,5)\n",
        "obj.add()\n",
        "obj.sub()\n",
        "obj.mul()"
      ],
      "metadata": {
        "id": "flZUu95bQi16"
      },
      "execution_count": null,
      "outputs": []
    }
  ]
}