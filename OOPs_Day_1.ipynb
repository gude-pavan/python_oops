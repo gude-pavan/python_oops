{
  "nbformat": 4,
  "nbformat_minor": 0,
  "metadata": {
    "colab": {
      "provenance": [],
      "include_colab_link": true
    },
    "kernelspec": {
      "name": "python3",
      "display_name": "Python 3"
    },
    "language_info": {
      "name": "python"
    }
  },
  "cells": [
    {
      "cell_type": "markdown",
      "metadata": {
        "id": "view-in-github",
        "colab_type": "text"
      },
      "source": [
        "<a href=\"https://colab.research.google.com/github/gude-pavan/python_oops/blob/main/OOPs_Day_1.ipynb\" target=\"_parent\"><img src=\"https://colab.research.google.com/assets/colab-badge.svg\" alt=\"Open In Colab\"/></a>"
      ]
    },
    {
      "cell_type": "code",
      "source": [
        "#Class main stes\n",
        "class calculator:\n",
        "  n1 = 0 #Attributes\n",
        "  n2 = 0\n",
        "  results = 0\n",
        "\n",
        "  def __init__(self): #constructor\n",
        "    self.n1 = 0\n",
        "    self.n2 = 0\n",
        "    self.res = 0\n",
        "  def add(self, n1, n2):\n",
        "    pass\n",
        "  def sub(self, n1, n2):\n",
        "    pass\n",
        "  def multiplication(self, n1, n2):\n",
        "    pass\n",
        "  def division(self, n1, n2):\n",
        "    pass"
      ],
      "metadata": {
        "id": "c0gr3U9SDyLm"
      },
      "execution_count": null,
      "outputs": []
    }
  ]
}