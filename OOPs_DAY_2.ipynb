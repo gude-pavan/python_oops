{
  "nbformat": 4,
  "nbformat_minor": 0,
  "metadata": {
    "colab": {
      "provenance": []
    },
    "kernelspec": {
      "name": "python3",
      "display_name": "Python 3"
    },
    "language_info": {
      "name": "python"
    }
  },
  "cells": [
    {
      "cell_type": "code",
      "execution_count": 2,
      "metadata": {
        "id": "Yv0L4kwIErE6",
        "colab": {
          "base_uri": "https://localhost:8080/"
        },
        "outputId": "458d8bfc-07d3-4e81-d502-1fb99ae0dab9"
      },
      "outputs": [
        {
          "output_type": "stream",
          "name": "stdout",
          "text": [
            "Name:  Pavan\n",
            "Age:  32\n",
            "Name:  Pavan\n",
            "Age:  32\n",
            "Name:  Pavan\n",
            "Age:  32\n"
          ]
        }
      ],
      "source": [
        "# Defining the class\n",
        "class myclass:\n",
        "  def __init__(self): #Special method, will be called when created the class.\n",
        "    self.name = \"Pavan\"\n",
        "    self.age = 32\n",
        "  def display(self):\n",
        "    print(\"Name: \", self.name)\n",
        "    print(\"Age: \", self.age)\n",
        "\n",
        "# Creating the classes\n",
        "obj1 = myclass();\n",
        "obj2 = myclass();\n",
        "obj3 = myclass();\n",
        "\n",
        "obj1.display()\n",
        "obj2.display()\n",
        "obj3.display()"
      ]
    },
    {
      "cell_type": "code",
      "source": [
        "# Defining the class with parameter constructor\n",
        "class myclass:\n",
        "  def __init__(self, name,age): #Special method, will be called when created the class.\n",
        "    self.name = name\n",
        "    self.age = age\n",
        "  def display(self):\n",
        "    print(\"Name: \", self.name)\n",
        "    print(\"Age: \", self.age)\n",
        "\n",
        "# Creating the classes\n",
        "obj1 = myclass(\"Pavan\",32);\n",
        "obj2 = myclass(\"Mouni\", 27);\n",
        "obj3 = myclass(\"Theeksha\",1);\n",
        "\n",
        "obj1.display()\n",
        "obj2.display()\n",
        "obj3.display()"
      ],
      "metadata": {
        "colab": {
          "base_uri": "https://localhost:8080/"
        },
        "id": "xxRjCulDP3wQ",
        "outputId": "4c0a879d-dcaf-4029-b6f6-62dfd6cca21a"
      },
      "execution_count": 3,
      "outputs": [
        {
          "output_type": "stream",
          "name": "stdout",
          "text": [
            "Name:  Pavan\n",
            "Age:  32\n",
            "Name:  Mouni\n",
            "Age:  27\n",
            "Name:  Theeksha\n",
            "Age:  1\n"
          ]
        }
      ]
    },
    {
      "cell_type": "code",
      "source": [
        "# circle class with parameter constructor\n",
        "class circle:\n",
        "  def __init__(self, r):\n",
        "    self.radius = r\n",
        "\n",
        "  def area(self):\n",
        "    ar = 3.14*self.radius*self.radius\n",
        "    print(\"Area: \", ar)\n",
        "  def perimeter(self):\n",
        "    cir = 2*3.14*self.radius\n",
        "    print(\"perimeter: \", cir)\n",
        "\n",
        "# Creating the classes\n",
        "obj1 = circle(1);\n",
        "obj2 = circle(2);\n",
        "obj3 = circle(3);\n",
        "\n",
        "obj1.area()\n",
        "obj1.perimeter()\n",
        "obj3.area()\n",
        "obj3.perimeter()"
      ],
      "metadata": {
        "id": "r2KYHhaeQolT",
        "outputId": "d3455523-2574-4e0b-dc3a-39ee40379b60",
        "colab": {
          "base_uri": "https://localhost:8080/"
        }
      },
      "execution_count": 6,
      "outputs": [
        {
          "output_type": "stream",
          "name": "stdout",
          "text": [
            "Area:  3.14\n",
            "perimeter:  6.28\n",
            "Area:  28.259999999999998\n",
            "perimeter:  18.84\n"
          ]
        }
      ]
    },
    {
      "cell_type": "code",
      "source": [
        "class Myclass:  # default constructor\n",
        "  def __init__(self,na=\" Default name\",ag=100):  #special method , will be called when the obj is created\n",
        "    self.name = na\n",
        "    self.age = ag\n",
        "\n",
        "  def display(self):\n",
        "    print(\"Name:\", self.name)\n",
        "    print(\"Age:\", self.age)\n",
        "\n",
        "\n",
        "obj1 = Myclass()\n",
        "obj2 = Myclass(\"John\",21)\n",
        "obj3 = Myclass(\"Geetha\",23)\n",
        "obj4 = Myclass()\n",
        "\n",
        "obj1.display()\n",
        "obj2.display()\n",
        "obj3.display()\n",
        "obj4.display()"
      ],
      "metadata": {
        "id": "eD25ndlPQpOR",
        "outputId": "597e384c-86d2-4bd5-ffc0-2a2ff2517b6b",
        "colab": {
          "base_uri": "https://localhost:8080/"
        }
      },
      "execution_count": 7,
      "outputs": [
        {
          "output_type": "stream",
          "name": "stdout",
          "text": [
            "Name:  Default name\n",
            "Age: 100\n",
            "Name: John\n",
            "Age: 21\n",
            "Name: Geetha\n",
            "Age: 23\n",
            "Name:  Default name\n",
            "Age: 100\n"
          ]
        }
      ]
    },
    {
      "cell_type": "code",
      "source": [
        "#Class with instance attributes and class attributes\n",
        "class myclass:\n",
        "  college = \"PBR VITS\"\n",
        "  def __init__(self): #Special method, will be called when created the class.\n",
        "    self.name = \"Pavan\"\n",
        "    self.age = 32\n",
        "  def display(self):\n",
        "    print(\"Name: \", self.name)\n",
        "    print(\"Age: \", self.age)\n",
        "    print(\"Collage:\",self.college)\n",
        "\n",
        "# Creating the classes\n",
        "obj1 = myclass();\n",
        "obj1.display()\n",
        "myclass.college = \"ABC\"\n",
        "\n",
        "obj2 = myclass();\n",
        "obj2.display()\n",
        "\n",
        "obj3 = myclass();\n",
        "obj3.age = 40\n",
        "obj3.display()"
      ],
      "metadata": {
        "id": "o1XlyBfIQpmW",
        "outputId": "c3d6ab65-0bc0-47e9-b962-8846b4a8d014",
        "colab": {
          "base_uri": "https://localhost:8080/"
        }
      },
      "execution_count": 9,
      "outputs": [
        {
          "output_type": "stream",
          "name": "stdout",
          "text": [
            "Name:  Pavan\n",
            "Age:  32\n",
            "Collage: PBR VITS\n",
            "Name:  Pavan\n",
            "Age:  32\n",
            "Collage: ABC\n",
            "Name:  Pavan\n",
            "Age:  40\n",
            "Collage: ABC\n"
          ]
        }
      ]
    },
    {
      "cell_type": "code",
      "source": [
        "#built in class functions\n",
        "\n",
        "class Emp:\n",
        "  def __init__(self,name,age,sal):\n",
        "    self.name = name\n",
        "    self.age = age\n",
        "    self.sal = sal\n",
        "\n",
        "e1 = Emp(\"Naga\",23,20000)\n",
        "e2 = Emp(\"Geetha\",20,30000)\n",
        "\n",
        "k =getattr(e1,\"age\")\n",
        "print(k)\n",
        "\n",
        "setattr(e2,'name','Kavin')\n",
        "print(e2.name)\n",
        "\n",
        "delattr(e2,'age')\n",
        "print(e1.age)\n",
        "\n",
        "print(hasattr(e2,'age'))\n",
        ""
      ],
      "metadata": {
        "id": "qX_Mi4g2dhL9",
        "outputId": "fd827207-c97f-400c-d850-45b6697ecba1",
        "colab": {
          "base_uri": "https://localhost:8080/"
        }
      },
      "execution_count": 10,
      "outputs": [
        {
          "output_type": "stream",
          "name": "stdout",
          "text": [
            "23\n",
            "Kavin\n",
            "23\n",
            "False\n"
          ]
        }
      ]
    },
    {
      "cell_type": "code",
      "source": [
        "#built in class attribute\n",
        "\n",
        "class Emp:\n",
        "  '''This is the emp example class to understand the OOPs concepts..'''\n",
        "  def __init__(self,name,age,sal):\n",
        "    self.name = name\n",
        "    self.age = age\n",
        "    self.sal = sal\n",
        "\n",
        "e1 = Emp(\"Naga\",23,20000)\n",
        "e2 = Emp(\"RAM\",20,30000)\n",
        "\n",
        "print(Emp.__doc__)\n",
        "print(Emp.__name__)\n",
        "print(Emp.__module__)\n",
        "print(Emp.__dict__)\n",
        "\n",
        "print(e1.__dict__)\n",
        "print(e2.__dict__)"
      ],
      "metadata": {
        "id": "_hWxcM5Nd9o6",
        "outputId": "e168d70c-2ac1-44ce-c7a6-ca90da01ead7",
        "colab": {
          "base_uri": "https://localhost:8080/"
        }
      },
      "execution_count": 13,
      "outputs": [
        {
          "output_type": "stream",
          "name": "stdout",
          "text": [
            "This is the emp example class to understand the OOPs concepts..\n",
            "Emp\n",
            "__main__\n",
            "{'__module__': '__main__', '__doc__': 'This is the emp example class to understand the OOPs concepts..', '__init__': <function Emp.__init__ at 0x7e1afba7eb00>, '__dict__': <attribute '__dict__' of 'Emp' objects>, '__weakref__': <attribute '__weakref__' of 'Emp' objects>}\n",
            "{'name': 'Naga', 'age': 23, 'sal': 20000}\n",
            "{'name': 'RAM', 'age': 20, 'sal': 30000}\n"
          ]
        }
      ]
    }
  ]
}