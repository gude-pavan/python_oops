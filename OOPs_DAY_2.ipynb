{
  "nbformat": 4,
  "nbformat_minor": 0,
  "metadata": {
    "colab": {
      "provenance": []
    },
    "kernelspec": {
      "name": "python3",
      "display_name": "Python 3"
    },
    "language_info": {
      "name": "python"
    }
  },
  "cells": [
    {
      "cell_type": "code",
      "execution_count": 1,
      "metadata": {
        "id": "Yv0L4kwIErE6",
        "colab": {
          "base_uri": "https://localhost:8080/",
          "height": 106
        },
        "outputId": "4c757c4f-9635-4ebf-f884-6a1b0c35b34b"
      },
      "outputs": [
        {
          "output_type": "error",
          "ename": "SyntaxError",
          "evalue": "invalid syntax (<ipython-input-1-ee8bdb7c2320>, line 7)",
          "traceback": [
            "\u001b[0;36m  File \u001b[0;32m\"<ipython-input-1-ee8bdb7c2320>\"\u001b[0;36m, line \u001b[0;32m7\u001b[0m\n\u001b[0;31m    print(\"Name\": self.name)\u001b[0m\n\u001b[0m                ^\u001b[0m\n\u001b[0;31mSyntaxError\u001b[0m\u001b[0;31m:\u001b[0m invalid syntax\n"
          ]
        }
      ],
      "source": [
        "# Defining the class\n",
        "class myclass:\n",
        "  def __init__(self): #Special method, will be called when created the class.\n",
        "    self.name = \"Pavan\"\n",
        "    self.age = 32\n",
        "  def display(self):\n",
        "    print(\"Name: \", self.name)\n",
        "    print(\"Age: \", self.age)\n",
        "\n",
        "# Creating the classes\n",
        "obj1 = myclass();\n",
        "obj2 = myclass();\n",
        "obj3 = myclass();\n",
        "\n",
        "obj1.display()\n",
        "obj2.display()\n",
        "obj3.display()"
      ]
    }
  ]
}