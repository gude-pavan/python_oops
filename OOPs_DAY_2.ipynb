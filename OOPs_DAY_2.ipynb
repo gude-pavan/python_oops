{
  "nbformat": 4,
  "nbformat_minor": 0,
  "metadata": {
    "colab": {
      "provenance": []
    },
    "kernelspec": {
      "name": "python3",
      "display_name": "Python 3"
    },
    "language_info": {
      "name": "python"
    }
  },
  "cells": [
    {
      "cell_type": "code",
      "execution_count": 2,
      "metadata": {
        "id": "Yv0L4kwIErE6",
        "colab": {
          "base_uri": "https://localhost:8080/"
        },
        "outputId": "458d8bfc-07d3-4e81-d502-1fb99ae0dab9"
      },
      "outputs": [
        {
          "output_type": "stream",
          "name": "stdout",
          "text": [
            "Name:  Pavan\n",
            "Age:  32\n",
            "Name:  Pavan\n",
            "Age:  32\n",
            "Name:  Pavan\n",
            "Age:  32\n"
          ]
        }
      ],
      "source": [
        "# Defining the class\n",
        "class myclass:\n",
        "  def __init__(self): #Special method, will be called when created the class.\n",
        "    self.name = \"Pavan\"\n",
        "    self.age = 32\n",
        "  def display(self):\n",
        "    print(\"Name: \", self.name)\n",
        "    print(\"Age: \", self.age)\n",
        "\n",
        "# Creating the classes\n",
        "obj1 = myclass();\n",
        "obj2 = myclass();\n",
        "obj3 = myclass();\n",
        "\n",
        "obj1.display()\n",
        "obj2.display()\n",
        "obj3.display()"
      ]
    },
    {
      "cell_type": "code",
      "source": [
        "# Defining the class with parameter constructor\n",
        "class myclass:\n",
        "  def __init__(self, name,age): #Special method, will be called when created the class.\n",
        "    self.name = name\n",
        "    self.age = age\n",
        "  def display(self):\n",
        "    print(\"Name: \", self.name)\n",
        "    print(\"Age: \", self.age)\n",
        "\n",
        "# Creating the classes\n",
        "obj1 = myclass(\"Pavan\",32);\n",
        "obj2 = myclass(\"Mouni\", 27);\n",
        "obj3 = myclass(\"Theeksha\",1);\n",
        "\n",
        "obj1.display()\n",
        "obj2.display()\n",
        "obj3.display()"
      ],
      "metadata": {
        "id": "xxRjCulDP3wQ",
        "outputId": "4c0a879d-dcaf-4029-b6f6-62dfd6cca21a",
        "colab": {
          "base_uri": "https://localhost:8080/"
        }
      },
      "execution_count": 3,
      "outputs": [
        {
          "output_type": "stream",
          "name": "stdout",
          "text": [
            "Name:  Pavan\n",
            "Age:  32\n",
            "Name:  Mouni\n",
            "Age:  27\n",
            "Name:  Theeksha\n",
            "Age:  1\n"
          ]
        }
      ]
    }
  ]
}