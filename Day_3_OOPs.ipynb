{
  "nbformat": 4,
  "nbformat_minor": 0,
  "metadata": {
    "colab": {
      "provenance": []
    },
    "kernelspec": {
      "name": "python3",
      "display_name": "Python 3"
    },
    "language_info": {
      "name": "python"
    }
  },
  "cells": [
    {
      "cell_type": "code",
      "execution_count": 1,
      "metadata": {
        "id": "B64j-PxHiVMV"
      },
      "outputs": [],
      "source": [
        "# public variable\n",
        "# Private variable comes with double underscore(__) in __init__ function.\n",
        "# Protected variblae comes with single underscore(_) in __init__ function."
      ]
    },
    {
      "cell_type": "code",
      "source": [
        "#public\n",
        "class finance:\n",
        "  def __init__(self):\n",
        "    self.__revenue = 10000 #Provate variable\n",
        "    self.margin = 15 #public variable\n",
        "    self._tax = 1500 #protected variable\n",
        "  def display(self):\n",
        "    print(self.__revenue)\n",
        "\n",
        "f1 = finance()\n",
        "print(f1.margin)\n",
        "f1.display() #accessing private variable through display function. It will print value\n",
        "print(f1.__revenue) #accessing private variable directly. It will through error."
      ],
      "metadata": {
        "id": "WqklobDqYlW2",
        "outputId": "95f6405d-b1c4-414d-a42f-0e532b560fc9",
        "colab": {
          "base_uri": "https://localhost:8080/",
          "height": 211
        }
      },
      "execution_count": 5,
      "outputs": [
        {
          "output_type": "stream",
          "name": "stdout",
          "text": [
            "15\n",
            "10000\n"
          ]
        },
        {
          "output_type": "error",
          "ename": "AttributeError",
          "evalue": "'finance' object has no attribute '__revenue'",
          "traceback": [
            "\u001b[0;31m---------------------------------------------------------------------------\u001b[0m",
            "\u001b[0;31mAttributeError\u001b[0m                            Traceback (most recent call last)",
            "\u001b[0;32m<ipython-input-5-19a936177e57>\u001b[0m in \u001b[0;36m<cell line: 13>\u001b[0;34m()\u001b[0m\n\u001b[1;32m     11\u001b[0m \u001b[0mprint\u001b[0m\u001b[0;34m(\u001b[0m\u001b[0mf1\u001b[0m\u001b[0;34m.\u001b[0m\u001b[0mmargin\u001b[0m\u001b[0;34m)\u001b[0m\u001b[0;34m\u001b[0m\u001b[0;34m\u001b[0m\u001b[0m\n\u001b[1;32m     12\u001b[0m \u001b[0mf1\u001b[0m\u001b[0;34m.\u001b[0m\u001b[0mdisplay\u001b[0m\u001b[0;34m(\u001b[0m\u001b[0;34m)\u001b[0m \u001b[0;31m#accessing private variable through display function. It will print value\u001b[0m\u001b[0;34m\u001b[0m\u001b[0;34m\u001b[0m\u001b[0m\n\u001b[0;32m---> 13\u001b[0;31m \u001b[0mprint\u001b[0m\u001b[0;34m(\u001b[0m\u001b[0mf1\u001b[0m\u001b[0;34m.\u001b[0m\u001b[0m__revenue\u001b[0m\u001b[0;34m)\u001b[0m \u001b[0;31m#accessing private variable directly. It will through error.\u001b[0m\u001b[0;34m\u001b[0m\u001b[0;34m\u001b[0m\u001b[0m\n\u001b[0m",
            "\u001b[0;31mAttributeError\u001b[0m: 'finance' object has no attribute '__revenue'"
          ]
        }
      ]
    },
    {
      "cell_type": "code",
      "source": [],
      "metadata": {
        "id": "icHtKpvFYmHR"
      },
      "execution_count": null,
      "outputs": []
    },
    {
      "cell_type": "code",
      "source": [],
      "metadata": {
        "id": "1bQCAlwFYmf0"
      },
      "execution_count": null,
      "outputs": []
    }
  ]
}